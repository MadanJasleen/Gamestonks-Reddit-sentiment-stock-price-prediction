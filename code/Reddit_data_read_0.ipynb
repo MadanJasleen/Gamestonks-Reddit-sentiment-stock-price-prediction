{
 "cells": [
  {
   "cell_type": "code",
   "execution_count": null,
   "id": "c4d52f1d-a708-460f-a8d9-62f996dbd25c",
   "metadata": {},
   "outputs": [],
   "source": [
    "#!pip3 install zstandard pandas\n",
    "#!pip3 install \"dask[complete]\""
   ]
  },
  {
   "cell_type": "code",
   "execution_count": 1,
   "id": "b424748f-8627-4a99-abcf-255a1aa5ceac",
   "metadata": {},
   "outputs": [],
   "source": [
    "import json\n",
    "import pandas as pd\n",
    "import numpy as np \n",
    "from datetime import datetime,timezone\n",
    "import matplotlib.pyplot as plt\n",
    "import matplotlib.dates as mdates\n",
    "import seaborn as sns\n",
    "import zstandard\n",
    "import os\n",
    "import sys\n",
    "import logging.handlers\n",
    "import re\n",
    "from tqdm import tqdm\n",
    "import csv\n",
    "import dask.array as da\n",
    "import dask.bag as db\n",
    "import dask.dataframe as dd\n",
    "import re"
   ]
  },
  {
   "cell_type": "code",
   "execution_count": 3,
   "id": "9ad2d0b9-b852-45d7-8305-4bac4f4d1762",
   "metadata": {},
   "outputs": [],
   "source": [
    "#reading posts \n",
    "file_path = \"/Users/jasleenmadan/Documents/Workspace/Data/reddit/wallstreetbets_submissions\"\n",
    "start_time = 1606780800  # 1 Dec\n",
    "end_time =  1613462399 # 15 Feb\n",
    "\n",
    "list_reddit = []\n",
    "    \n",
    "with open(file_path, 'r') as file:\n",
    "    for line in file:\n",
    "        line = line.strip()\n",
    "        if line:\n",
    "         r_full = json.loads(line)\n",
    "         created_utc = int(r_full.get('created_utc'))\n",
    "         if start_time <= created_utc <= end_time:\n",
    "          r = {key: r_full[key] for key in r_full.keys()\n",
    "             & {'id','created_utc','title','num_comments','selftext','score','distinguished','upvote_ratio'}}\n",
    "          list_reddit.append(r)\n",
    "                   "
   ]
  },
  {
   "cell_type": "code",
   "execution_count": 9,
   "id": "53562a4e-80cf-44d7-9664-92d42cd2e9d5",
   "metadata": {},
   "outputs": [
    {
     "name": "stdout",
     "output_type": "stream",
     "text": [
      "(894803, 8)\n"
     ]
    }
   ],
   "source": [
    "post_df = pd.DataFrame(list_reddit)\n",
    "print(post_df.shape)\n",
    "#post_df.to_csv('posts_raw_15_09_24.csv', index=False)"
   ]
  },
  {
   "cell_type": "code",
   "execution_count": 3,
   "id": "78236d23-4ca1-4aeb-a2e3-17b22c1462a1",
   "metadata": {},
   "outputs": [],
   "source": [
    "#reading in comments dataset\n",
    "file_path_com = \"/Users/jasleenmadan/Documents/Workspace/Data/reddit/wallstreetbets_comments\"\n",
    "start_time = 1606780800  # 1 Dec \n",
    "end_time =  1613462399 # 28 Feb\n",
    "\n",
    "out_csv = []\n",
    "skip_phrases = {'[deleted]', '[removed]', '[deleted by user]'}\n",
    "    \n",
    "with open(file_path_com, 'r') as file:\n",
    "    for line in file:\n",
    "        line = line.strip()\n",
    "        if line:\n",
    "            json_obj = json.loads(line)\n",
    "            created_utc = int(json_obj.get('created_utc'))\n",
    "            body = json_obj.get('body', '').strip()\n",
    "            if start_time <= created_utc <= end_time and not any(phrase in body for phrase in skip_phrases):   \n",
    "                r = {key: json_obj[key] for key in json_obj.keys() \n",
    "                        & {'created_utc', 'author_flair_type','distinguished','score', 'body', 'id', 'parent_id', 'link_id'}}\n",
    "                out_csv.append(r)"
   ]
  },
  {
   "cell_type": "code",
   "execution_count": 4,
   "id": "65e9550d-e429-4fc4-95e7-6c841742ecec",
   "metadata": {},
   "outputs": [],
   "source": [
    "comments_df = pd.DataFrame(out_csv)\n",
    "comments_df.to_csv('comments_raw_15_09_24.csv', index=False)"
   ]
  }
 ],
 "metadata": {
  "kernelspec": {
   "display_name": "Python 3 (ipykernel)",
   "language": "python",
   "name": "python3"
  },
  "language_info": {
   "codemirror_mode": {
    "name": "ipython",
    "version": 3
   },
   "file_extension": ".py",
   "mimetype": "text/x-python",
   "name": "python",
   "nbconvert_exporter": "python",
   "pygments_lexer": "ipython3",
   "version": "3.12.4"
  }
 },
 "nbformat": 4,
 "nbformat_minor": 5
}
