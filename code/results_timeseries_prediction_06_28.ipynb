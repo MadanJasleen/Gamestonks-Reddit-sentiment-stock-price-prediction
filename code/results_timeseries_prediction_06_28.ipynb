{
 "cells": [
  {
   "cell_type": "code",
   "execution_count": 209,
   "id": "24fffb39-b506-41d3-ba1b-86d4037a1f3b",
   "metadata": {},
   "outputs": [],
   "source": [
    "import os\n",
    "import pandas as pd \n",
    "import numpy as np\n",
    "import json\n",
    "from IPython.display import display"
   ]
  },
  {
   "cell_type": "code",
   "execution_count": 210,
   "id": "b30ceba6-e51a-4463-be72-7636403ac8d2",
   "metadata": {},
   "outputs": [
    {
     "data": {
      "text/plain": [
       "(373101, 21)"
      ]
     },
     "execution_count": 210,
     "metadata": {},
     "output_type": "execute_result"
    }
   ],
   "source": [
    "df_timeseries = pd.read_csv('/Users/jasleenmadan/Documents/Workspace/Projects/Field_Project/MultiDataset_CBL/analysis_data/post_sentiments_gemma.csv')\n",
    "df_timeseries.shape"
   ]
  },
  {
   "cell_type": "code",
   "execution_count": 211,
   "id": "75667207-eafc-4056-b6cf-a5f885e29d59",
   "metadata": {},
   "outputs": [
    {
     "data": {
      "text/plain": [
       "Index(['upvote_ratio', 'created_utc', 'id', 'num_comments', 'score',\n",
       "       'created_et_date', 'created_et_timestamp', 'created_et_time',\n",
       "       'fulltext', 'is_trade_day', 'is_trade_time', 'gme_timeline',\n",
       "       'General Reasoning', 'Why Positive', 'Positive', 'Why Negative',\n",
       "       'Negative', 'Why Neutral', 'Neutral', 'Stocks Mentioned',\n",
       "       'Raw_Response'],\n",
       "      dtype='object')"
      ]
     },
     "execution_count": 211,
     "metadata": {},
     "output_type": "execute_result"
    }
   ],
   "source": [
    "df_timeseries.columns"
   ]
  },
  {
   "cell_type": "code",
   "execution_count": 212,
   "id": "79647fb8-c378-4ceb-a5eb-7ce205d402be",
   "metadata": {},
   "outputs": [],
   "source": [
    "df_timeseries = df_timeseries[['id', 'num_comments', 'score',\n",
    "       'created_et_date', 'created_et_time', 'gme_timeline',\n",
    "       'Positive','Negative', 'Neutral', 'Stocks Mentioned']]"
   ]
  },
  {
   "cell_type": "code",
   "execution_count": 213,
   "id": "b325a9f0-1c42-4e91-ae68-3eaa687a9542",
   "metadata": {},
   "outputs": [],
   "source": [
    "df_timeseries['Net Sentiment'] = df_timeseries['Positive'] - df_timeseries['Negative']"
   ]
  },
  {
   "cell_type": "code",
   "execution_count": 214,
   "id": "b0ced62a-3a03-43df-a618-8a6bb1265e12",
   "metadata": {},
   "outputs": [
    {
     "data": {
      "text/html": [
       "<div>\n",
       "<style scoped>\n",
       "    .dataframe tbody tr th:only-of-type {\n",
       "        vertical-align: middle;\n",
       "    }\n",
       "\n",
       "    .dataframe tbody tr th {\n",
       "        vertical-align: top;\n",
       "    }\n",
       "\n",
       "    .dataframe thead th {\n",
       "        text-align: right;\n",
       "    }\n",
       "</style>\n",
       "<table border=\"1\" class=\"dataframe\">\n",
       "  <thead>\n",
       "    <tr style=\"text-align: right;\">\n",
       "      <th></th>\n",
       "      <th>id</th>\n",
       "      <th>num_comments</th>\n",
       "      <th>score</th>\n",
       "      <th>created_et_date</th>\n",
       "      <th>created_et_time</th>\n",
       "      <th>gme_timeline</th>\n",
       "      <th>Positive</th>\n",
       "      <th>Negative</th>\n",
       "      <th>Neutral</th>\n",
       "      <th>Stocks Mentioned</th>\n",
       "      <th>Net Sentiment</th>\n",
       "    </tr>\n",
       "  </thead>\n",
       "  <tbody>\n",
       "    <tr>\n",
       "      <th>0</th>\n",
       "      <td>kdmzrq</td>\n",
       "      <td>0</td>\n",
       "      <td>1</td>\n",
       "      <td>2020-12-15</td>\n",
       "      <td>09:46:52</td>\n",
       "      <td>0</td>\n",
       "      <td>7.0</td>\n",
       "      <td>0.0</td>\n",
       "      <td>3.0</td>\n",
       "      <td>['GME']</td>\n",
       "      <td>7.0</td>\n",
       "    </tr>\n",
       "    <tr>\n",
       "      <th>1</th>\n",
       "      <td>kdn7tr</td>\n",
       "      <td>0</td>\n",
       "      <td>0</td>\n",
       "      <td>2020-12-15</td>\n",
       "      <td>09:59:42</td>\n",
       "      <td>0</td>\n",
       "      <td>0.0</td>\n",
       "      <td>0.0</td>\n",
       "      <td>10.0</td>\n",
       "      <td>['Apple', 'AAPL']</td>\n",
       "      <td>0.0</td>\n",
       "    </tr>\n",
       "    <tr>\n",
       "      <th>2</th>\n",
       "      <td>kdnan4</td>\n",
       "      <td>0</td>\n",
       "      <td>1</td>\n",
       "      <td>2020-12-15</td>\n",
       "      <td>10:03:43</td>\n",
       "      <td>0</td>\n",
       "      <td>7.0</td>\n",
       "      <td>0.0</td>\n",
       "      <td>10.0</td>\n",
       "      <td>['PLTR']</td>\n",
       "      <td>7.0</td>\n",
       "    </tr>\n",
       "    <tr>\n",
       "      <th>3</th>\n",
       "      <td>kdnbkk</td>\n",
       "      <td>0</td>\n",
       "      <td>1</td>\n",
       "      <td>2020-12-15</td>\n",
       "      <td>10:05:04</td>\n",
       "      <td>0</td>\n",
       "      <td>7.0</td>\n",
       "      <td>0.0</td>\n",
       "      <td>2.0</td>\n",
       "      <td>['GME']</td>\n",
       "      <td>7.0</td>\n",
       "    </tr>\n",
       "    <tr>\n",
       "      <th>4</th>\n",
       "      <td>kdnqux</td>\n",
       "      <td>0</td>\n",
       "      <td>0</td>\n",
       "      <td>2020-12-15</td>\n",
       "      <td>10:28:40</td>\n",
       "      <td>0</td>\n",
       "      <td>0.0</td>\n",
       "      <td>0.0</td>\n",
       "      <td>10.0</td>\n",
       "      <td>['GME', 'Renaissance IPO ETF']</td>\n",
       "      <td>0.0</td>\n",
       "    </tr>\n",
       "  </tbody>\n",
       "</table>\n",
       "</div>"
      ],
      "text/plain": [
       "       id  num_comments  score created_et_date created_et_time  gme_timeline  \\\n",
       "0  kdmzrq             0      1      2020-12-15        09:46:52             0   \n",
       "1  kdn7tr             0      0      2020-12-15        09:59:42             0   \n",
       "2  kdnan4             0      1      2020-12-15        10:03:43             0   \n",
       "3  kdnbkk             0      1      2020-12-15        10:05:04             0   \n",
       "4  kdnqux             0      0      2020-12-15        10:28:40             0   \n",
       "\n",
       "   Positive  Negative  Neutral                Stocks Mentioned  Net Sentiment  \n",
       "0       7.0       0.0      3.0                         ['GME']            7.0  \n",
       "1       0.0       0.0     10.0               ['Apple', 'AAPL']            0.0  \n",
       "2       7.0       0.0     10.0                        ['PLTR']            7.0  \n",
       "3       7.0       0.0      2.0                         ['GME']            7.0  \n",
       "4       0.0       0.0     10.0  ['GME', 'Renaissance IPO ETF']            0.0  "
      ]
     },
     "execution_count": 214,
     "metadata": {},
     "output_type": "execute_result"
    }
   ],
   "source": [
    "df_timeseries.head()"
   ]
  },
  {
   "cell_type": "code",
   "execution_count": 215,
   "id": "e299705a-70bd-493e-adea-f5445cd6c569",
   "metadata": {},
   "outputs": [
    {
     "name": "stdout",
     "output_type": "stream",
     "text": [
      "<class 'pandas.core.frame.DataFrame'>\n",
      "RangeIndex: 373101 entries, 0 to 373100\n",
      "Data columns (total 11 columns):\n",
      " #   Column            Non-Null Count   Dtype  \n",
      "---  ------            --------------   -----  \n",
      " 0   id                373101 non-null  object \n",
      " 1   num_comments      373101 non-null  int64  \n",
      " 2   score             373101 non-null  int64  \n",
      " 3   created_et_date   373101 non-null  object \n",
      " 4   created_et_time   373101 non-null  object \n",
      " 5   gme_timeline      373101 non-null  int64  \n",
      " 6   Positive          372018 non-null  float64\n",
      " 7   Negative          372018 non-null  float64\n",
      " 8   Neutral           372018 non-null  float64\n",
      " 9   Stocks Mentioned  372018 non-null  object \n",
      " 10  Net Sentiment     372018 non-null  float64\n",
      "dtypes: float64(4), int64(3), object(4)\n",
      "memory usage: 31.3+ MB\n"
     ]
    }
   ],
   "source": [
    "df_timeseries.info()"
   ]
  },
  {
   "cell_type": "code",
   "execution_count": 216,
   "id": "076e38f1-a1a1-449c-917b-d19fe2a5ca26",
   "metadata": {},
   "outputs": [],
   "source": [
    "#reading in stock data \n",
    "stock_5min = pd.read_csv('/Users/jasleenmadan/Documents/Workspace/Projects/Field_Project/MultiDataset_CBL/out_data/Stock output folder/combined_5min_stockdata.csv')"
   ]
  },
  {
   "cell_type": "code",
   "execution_count": 217,
   "id": "80dcc19e-f35c-4930-bae9-e4564a616539",
   "metadata": {},
   "outputs": [],
   "source": [
    "stock_5min = stock_5min[['DateTime','GME_Close','GME_5min_return']]"
   ]
  },
  {
   "cell_type": "code",
   "execution_count": 218,
   "id": "4ff9105a-b6bf-44a8-9bd6-5693a0dbb823",
   "metadata": {},
   "outputs": [
    {
     "data": {
      "text/html": [
       "<div>\n",
       "<style scoped>\n",
       "    .dataframe tbody tr th:only-of-type {\n",
       "        vertical-align: middle;\n",
       "    }\n",
       "\n",
       "    .dataframe tbody tr th {\n",
       "        vertical-align: top;\n",
       "    }\n",
       "\n",
       "    .dataframe thead th {\n",
       "        text-align: right;\n",
       "    }\n",
       "</style>\n",
       "<table border=\"1\" class=\"dataframe\">\n",
       "  <thead>\n",
       "    <tr style=\"text-align: right;\">\n",
       "      <th></th>\n",
       "      <th>DateTime</th>\n",
       "      <th>GME_Close</th>\n",
       "      <th>GME_5min_return</th>\n",
       "    </tr>\n",
       "  </thead>\n",
       "  <tbody>\n",
       "    <tr>\n",
       "      <th>0</th>\n",
       "      <td>2020-12-15 09:30:00</td>\n",
       "      <td>3.2088</td>\n",
       "      <td>NaN</td>\n",
       "    </tr>\n",
       "    <tr>\n",
       "      <th>1</th>\n",
       "      <td>2020-12-15 09:35:00</td>\n",
       "      <td>3.2325</td>\n",
       "      <td>0.007386</td>\n",
       "    </tr>\n",
       "    <tr>\n",
       "      <th>2</th>\n",
       "      <td>2020-12-15 09:40:00</td>\n",
       "      <td>3.1975</td>\n",
       "      <td>-0.010828</td>\n",
       "    </tr>\n",
       "    <tr>\n",
       "      <th>3</th>\n",
       "      <td>2020-12-15 09:45:00</td>\n",
       "      <td>3.1715</td>\n",
       "      <td>-0.008131</td>\n",
       "    </tr>\n",
       "    <tr>\n",
       "      <th>4</th>\n",
       "      <td>2020-12-15 09:50:00</td>\n",
       "      <td>3.1600</td>\n",
       "      <td>-0.003626</td>\n",
       "    </tr>\n",
       "  </tbody>\n",
       "</table>\n",
       "</div>"
      ],
      "text/plain": [
       "              DateTime  GME_Close  GME_5min_return\n",
       "0  2020-12-15 09:30:00     3.2088              NaN\n",
       "1  2020-12-15 09:35:00     3.2325         0.007386\n",
       "2  2020-12-15 09:40:00     3.1975        -0.010828\n",
       "3  2020-12-15 09:45:00     3.1715        -0.008131\n",
       "4  2020-12-15 09:50:00     3.1600        -0.003626"
      ]
     },
     "execution_count": 218,
     "metadata": {},
     "output_type": "execute_result"
    }
   ],
   "source": [
    "stock_5min.head()"
   ]
  },
  {
   "cell_type": "code",
   "execution_count": 219,
   "id": "12eff63b-c2b2-45e1-86b9-2925d4f21ace",
   "metadata": {},
   "outputs": [],
   "source": [
    "stock_5min['DateTime'] = pd.to_datetime(stock_5min['DateTime'])"
   ]
  },
  {
   "cell_type": "code",
   "execution_count": 220,
   "id": "1c389bd0-b76e-4829-b793-062ca452f1ce",
   "metadata": {},
   "outputs": [
    {
     "name": "stdout",
     "output_type": "stream",
     "text": [
      "<class 'pandas.core.frame.DataFrame'>\n",
      "RangeIndex: 373101 entries, 0 to 373100\n",
      "Data columns (total 12 columns):\n",
      " #   Column            Non-Null Count   Dtype         \n",
      "---  ------            --------------   -----         \n",
      " 0   id                373101 non-null  object        \n",
      " 1   num_comments      373101 non-null  int64         \n",
      " 2   score             373101 non-null  int64         \n",
      " 3   created_et_date   373101 non-null  object        \n",
      " 4   created_et_time   373101 non-null  object        \n",
      " 5   gme_timeline      373101 non-null  int64         \n",
      " 6   Positive          372018 non-null  float64       \n",
      " 7   Negative          372018 non-null  float64       \n",
      " 8   Neutral           372018 non-null  float64       \n",
      " 9   Stocks Mentioned  372018 non-null  object        \n",
      " 10  Net Sentiment     372018 non-null  float64       \n",
      " 11  DateTime          373101 non-null  datetime64[ns]\n",
      "dtypes: datetime64[ns](1), float64(4), int64(3), object(4)\n",
      "memory usage: 34.2+ MB\n"
     ]
    }
   ],
   "source": [
    "df_timeseries['DateTime'] = pd.to_datetime(df_timeseries['created_et_date'] + ' ' + df_timeseries['created_et_time'])\n",
    "df_timeseries['DateTime'] = pd.to_datetime(df_timeseries['DateTime'])\n",
    "df_timeseries.info()"
   ]
  },
  {
   "cell_type": "code",
   "execution_count": 221,
   "id": "28046d96-90e1-412a-8dce-6a513644e09f",
   "metadata": {},
   "outputs": [
    {
     "data": {
      "text/html": [
       "<div>\n",
       "<style scoped>\n",
       "    .dataframe tbody tr th:only-of-type {\n",
       "        vertical-align: middle;\n",
       "    }\n",
       "\n",
       "    .dataframe tbody tr th {\n",
       "        vertical-align: top;\n",
       "    }\n",
       "\n",
       "    .dataframe thead th {\n",
       "        text-align: right;\n",
       "    }\n",
       "</style>\n",
       "<table border=\"1\" class=\"dataframe\">\n",
       "  <thead>\n",
       "    <tr style=\"text-align: right;\">\n",
       "      <th></th>\n",
       "      <th>id</th>\n",
       "      <th>num_comments</th>\n",
       "      <th>score</th>\n",
       "      <th>gme_timeline</th>\n",
       "      <th>Positive</th>\n",
       "      <th>Negative</th>\n",
       "      <th>Neutral</th>\n",
       "      <th>Stocks Mentioned</th>\n",
       "      <th>Net Sentiment</th>\n",
       "      <th>DateTime</th>\n",
       "    </tr>\n",
       "  </thead>\n",
       "  <tbody>\n",
       "    <tr>\n",
       "      <th>0</th>\n",
       "      <td>kdmpvv</td>\n",
       "      <td>0</td>\n",
       "      <td>1</td>\n",
       "      <td>0</td>\n",
       "      <td>0.0</td>\n",
       "      <td>0.0</td>\n",
       "      <td>10.0</td>\n",
       "      <td>['AMTD']</td>\n",
       "      <td>0.0</td>\n",
       "      <td>2020-12-15 09:30:44</td>\n",
       "    </tr>\n",
       "    <tr>\n",
       "      <th>1</th>\n",
       "      <td>kdmpx7</td>\n",
       "      <td>9</td>\n",
       "      <td>87</td>\n",
       "      <td>0</td>\n",
       "      <td>6.0</td>\n",
       "      <td>0.0</td>\n",
       "      <td>0.0</td>\n",
       "      <td>[]</td>\n",
       "      <td>6.0</td>\n",
       "      <td>2020-12-15 09:30:49</td>\n",
       "    </tr>\n",
       "    <tr>\n",
       "      <th>2</th>\n",
       "      <td>kdmqxe</td>\n",
       "      <td>1</td>\n",
       "      <td>1</td>\n",
       "      <td>0</td>\n",
       "      <td>0.0</td>\n",
       "      <td>0.0</td>\n",
       "      <td>10.0</td>\n",
       "      <td>['NWARF']</td>\n",
       "      <td>0.0</td>\n",
       "      <td>2020-12-15 09:32:28</td>\n",
       "    </tr>\n",
       "    <tr>\n",
       "      <th>3</th>\n",
       "      <td>kdmqzl</td>\n",
       "      <td>0</td>\n",
       "      <td>1</td>\n",
       "      <td>0</td>\n",
       "      <td>0.0</td>\n",
       "      <td>0.0</td>\n",
       "      <td>10.0</td>\n",
       "      <td>['VLDR']</td>\n",
       "      <td>0.0</td>\n",
       "      <td>2020-12-15 09:32:34</td>\n",
       "    </tr>\n",
       "    <tr>\n",
       "      <th>4</th>\n",
       "      <td>kdmr9m</td>\n",
       "      <td>0</td>\n",
       "      <td>0</td>\n",
       "      <td>0</td>\n",
       "      <td>0.0</td>\n",
       "      <td>0.0</td>\n",
       "      <td>10.0</td>\n",
       "      <td>['PLTR', 'AMD']</td>\n",
       "      <td>0.0</td>\n",
       "      <td>2020-12-15 09:33:01</td>\n",
       "    </tr>\n",
       "  </tbody>\n",
       "</table>\n",
       "</div>"
      ],
      "text/plain": [
       "       id  num_comments  score  gme_timeline  Positive  Negative  Neutral  \\\n",
       "0  kdmpvv             0      1             0       0.0       0.0     10.0   \n",
       "1  kdmpx7             9     87             0       6.0       0.0      0.0   \n",
       "2  kdmqxe             1      1             0       0.0       0.0     10.0   \n",
       "3  kdmqzl             0      1             0       0.0       0.0     10.0   \n",
       "4  kdmr9m             0      0             0       0.0       0.0     10.0   \n",
       "\n",
       "  Stocks Mentioned  Net Sentiment            DateTime  \n",
       "0         ['AMTD']            0.0 2020-12-15 09:30:44  \n",
       "1               []            6.0 2020-12-15 09:30:49  \n",
       "2        ['NWARF']            0.0 2020-12-15 09:32:28  \n",
       "3         ['VLDR']            0.0 2020-12-15 09:32:34  \n",
       "4  ['PLTR', 'AMD']            0.0 2020-12-15 09:33:01  "
      ]
     },
     "execution_count": 221,
     "metadata": {},
     "output_type": "execute_result"
    }
   ],
   "source": [
    "df_timeseries = df_timeseries.drop(['created_et_date', 'created_et_time'], axis=1)\n",
    "df_timeseries = df_timeseries.sort_values(by='DateTime').reset_index(drop=True)\n",
    "df_timeseries.head()"
   ]
  },
  {
   "cell_type": "code",
   "execution_count": 286,
   "id": "a83fc70f-f331-4ae4-88db-9317d5983821",
   "metadata": {},
   "outputs": [
    {
     "data": {
      "text/html": [
       "<div>\n",
       "<style scoped>\n",
       "    .dataframe tbody tr th:only-of-type {\n",
       "        vertical-align: middle;\n",
       "    }\n",
       "\n",
       "    .dataframe tbody tr th {\n",
       "        vertical-align: top;\n",
       "    }\n",
       "\n",
       "    .dataframe thead th {\n",
       "        text-align: right;\n",
       "    }\n",
       "</style>\n",
       "<table border=\"1\" class=\"dataframe\">\n",
       "  <thead>\n",
       "    <tr style=\"text-align: right;\">\n",
       "      <th></th>\n",
       "      <th>DateTime</th>\n",
       "      <th>GME_Close</th>\n",
       "      <th>GME_5min_return</th>\n",
       "      <th>num_comments_5min</th>\n",
       "      <th>score_max_5min</th>\n",
       "      <th>gme_timeline_mode_5min</th>\n",
       "      <th>Positive_avg_5min</th>\n",
       "      <th>Negative_avg_5min</th>\n",
       "      <th>Neutral_avg_5min</th>\n",
       "      <th>Net_Sentiment_avg_5min</th>\n",
       "    </tr>\n",
       "  </thead>\n",
       "  <tbody>\n",
       "    <tr>\n",
       "      <th>0</th>\n",
       "      <td>2020-12-15 09:30:00</td>\n",
       "      <td>3.2088</td>\n",
       "      <td>NaN</td>\n",
       "      <td>23</td>\n",
       "      <td>87.0</td>\n",
       "      <td>0.0</td>\n",
       "      <td>0.857143</td>\n",
       "      <td>0.000000</td>\n",
       "      <td>8.571429</td>\n",
       "      <td>0.857143</td>\n",
       "    </tr>\n",
       "    <tr>\n",
       "      <th>1</th>\n",
       "      <td>2020-12-15 09:35:00</td>\n",
       "      <td>3.2325</td>\n",
       "      <td>0.007386</td>\n",
       "      <td>185</td>\n",
       "      <td>1862.0</td>\n",
       "      <td>0.0</td>\n",
       "      <td>4.363636</td>\n",
       "      <td>0.090909</td>\n",
       "      <td>4.818182</td>\n",
       "      <td>4.272727</td>\n",
       "    </tr>\n",
       "    <tr>\n",
       "      <th>2</th>\n",
       "      <td>2020-12-15 09:40:00</td>\n",
       "      <td>3.1975</td>\n",
       "      <td>-0.010828</td>\n",
       "      <td>1247</td>\n",
       "      <td>23033.0</td>\n",
       "      <td>0.0</td>\n",
       "      <td>3.300000</td>\n",
       "      <td>0.600000</td>\n",
       "      <td>6.500000</td>\n",
       "      <td>2.700000</td>\n",
       "    </tr>\n",
       "    <tr>\n",
       "      <th>3</th>\n",
       "      <td>2020-12-15 09:45:00</td>\n",
       "      <td>3.1715</td>\n",
       "      <td>-0.008131</td>\n",
       "      <td>131</td>\n",
       "      <td>239.0</td>\n",
       "      <td>0.0</td>\n",
       "      <td>3.777778</td>\n",
       "      <td>0.000000</td>\n",
       "      <td>5.888889</td>\n",
       "      <td>3.777778</td>\n",
       "    </tr>\n",
       "    <tr>\n",
       "      <th>4</th>\n",
       "      <td>2020-12-15 09:50:00</td>\n",
       "      <td>3.1600</td>\n",
       "      <td>-0.003626</td>\n",
       "      <td>1</td>\n",
       "      <td>2.0</td>\n",
       "      <td>0.0</td>\n",
       "      <td>1.833333</td>\n",
       "      <td>0.000000</td>\n",
       "      <td>8.500000</td>\n",
       "      <td>1.833333</td>\n",
       "    </tr>\n",
       "  </tbody>\n",
       "</table>\n",
       "</div>"
      ],
      "text/plain": [
       "             DateTime  GME_Close  GME_5min_return  num_comments_5min  \\\n",
       "0 2020-12-15 09:30:00     3.2088              NaN                 23   \n",
       "1 2020-12-15 09:35:00     3.2325         0.007386                185   \n",
       "2 2020-12-15 09:40:00     3.1975        -0.010828               1247   \n",
       "3 2020-12-15 09:45:00     3.1715        -0.008131                131   \n",
       "4 2020-12-15 09:50:00     3.1600        -0.003626                  1   \n",
       "\n",
       "   score_max_5min  gme_timeline_mode_5min  Positive_avg_5min  \\\n",
       "0            87.0                     0.0           0.857143   \n",
       "1          1862.0                     0.0           4.363636   \n",
       "2         23033.0                     0.0           3.300000   \n",
       "3           239.0                     0.0           3.777778   \n",
       "4             2.0                     0.0           1.833333   \n",
       "\n",
       "   Negative_avg_5min  Neutral_avg_5min  Net_Sentiment_avg_5min  \n",
       "0           0.000000          8.571429                0.857143  \n",
       "1           0.090909          4.818182                4.272727  \n",
       "2           0.600000          6.500000                2.700000  \n",
       "3           0.000000          5.888889                3.777778  \n",
       "4           0.000000          8.500000                1.833333  "
      ]
     },
     "execution_count": 286,
     "metadata": {},
     "output_type": "execute_result"
    }
   ],
   "source": [
    "from scipy import stats\n",
    "df_timeseries_indexed = df_timeseries.set_index('DateTime')\n",
    "\n",
    "def get_mode(series):\n",
    "    if len(series) == 0:\n",
    "        return np.nan\n",
    "    mode_result = stats.mode(series, keepdims=True)\n",
    "    return mode_result.mode[0]\n",
    "\n",
    "aggregated_sentiment = df_timeseries_indexed.resample('5min', label='left', closed='left').agg({\n",
    "    'num_comments': 'sum',           # Sum of comments over 5 minutes\n",
    "    'score': 'max',                  # Maximum score over 5 minutes\n",
    "    'gme_timeline': get_mode,        # Mode gme_timeline\n",
    "    'Positive': 'mean',              # Average positive sentiment\n",
    "    'Negative': 'mean',              # Average negative sentiment\n",
    "    'Neutral': 'mean',               # Average neutral sentiment\n",
    "    'Net Sentiment': 'mean'          # Average net sentiment\n",
    "}).reset_index()\n",
    "\n",
    "# Rename columns \n",
    "aggregated_sentiment.columns = [\n",
    "    'DateTime',\n",
    "    'num_comments_5min',\n",
    "    'score_max_5min', \n",
    "    'gme_timeline_mode_5min',\n",
    "    'Positive_avg_5min',\n",
    "    'Negative_avg_5min',\n",
    "    'Neutral_avg_5min',\n",
    "    'Net_Sentiment_avg_5min'\n",
    "]\n",
    "\n",
    "merged_df_ts = pd.merge(\n",
    "    stock_5min, \n",
    "    aggregated_sentiment, \n",
    "    on='DateTime', \n",
    "    how='left'  \n",
    ")\n",
    "\n",
    "merged_df_ts.head()\n"
   ]
  },
  {
   "cell_type": "code",
   "execution_count": 274,
   "id": "11701d6e-4844-47dc-ad17-f2d52bbafa90",
   "metadata": {},
   "outputs": [
    {
     "name": "stdout",
     "output_type": "stream",
     "text": [
      "(207412, 10)\n"
     ]
    }
   ],
   "source": [
    "import ast\n",
    "df_timeseries['Stocks Mentioned'] = (\n",
    "    df_timeseries['Stocks Mentioned']\n",
    "    .fillna('[]')                     \n",
    "    .apply(ast.literal_eval)           \n",
    ")\n",
    "\n",
    "mask = df_timeseries['Stocks Mentioned'].apply(lambda lst: 'GME' in lst)\n",
    "gme_df = df_timeseries[mask]"
   ]
  },
  {
   "cell_type": "code",
   "execution_count": 302,
   "id": "aec61797-7aa0-4af2-ae58-15848f9117e2",
   "metadata": {},
   "outputs": [
    {
     "data": {
      "text/plain": [
       "(3850, 10)"
      ]
     },
     "execution_count": 302,
     "metadata": {},
     "output_type": "execute_result"
    }
   ],
   "source": [
    "#removing 5 min market opening and closing times \n",
    "from datetime import time\n",
    "merged_df_ts = merged_df_ts[merged_df_ts['DateTime'].dt.time != time(9, 30)]\n",
    "merged_df_ts = merged_df_ts[merged_df_ts['DateTime'].dt.time != time(16, 00)]\n",
    "merged_df_ts.shape"
   ]
  },
  {
   "cell_type": "code",
   "execution_count": null,
   "id": "5dd856de-217d-475d-801f-3ab4b5cc2ce7",
   "metadata": {},
   "outputs": [],
   "source": [
    "#gme_df agg at 5 min \n"
   ]
  }
 ],
 "metadata": {
  "kernelspec": {
   "display_name": "Python 3 (ipykernel)",
   "language": "python",
   "name": "python3"
  },
  "language_info": {
   "codemirror_mode": {
    "name": "ipython",
    "version": 3
   },
   "file_extension": ".py",
   "mimetype": "text/x-python",
   "name": "python",
   "nbconvert_exporter": "python",
   "pygments_lexer": "ipython3",
   "version": "3.12.4"
  }
 },
 "nbformat": 4,
 "nbformat_minor": 5
}
