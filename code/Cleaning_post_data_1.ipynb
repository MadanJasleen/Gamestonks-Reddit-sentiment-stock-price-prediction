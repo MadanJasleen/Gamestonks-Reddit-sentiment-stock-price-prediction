{
 "cells": [
  {
   "cell_type": "code",
   "execution_count": 1,
   "id": "2a8c6228-9f52-442d-aec9-17561d79db0e",
   "metadata": {},
   "outputs": [],
   "source": [
    "import json\n",
    "import pandas as pd\n",
    "import numpy as np \n",
    "from datetime import datetime,timezone\n",
    "import matplotlib.pyplot as plt\n",
    "import matplotlib.dates as mdates\n",
    "import seaborn as sns\n",
    "import zstandard\n",
    "import os\n",
    "import sys\n",
    "import logging.handlers\n",
    "import re\n",
    "from tqdm import tqdm\n",
    "import csv"
   ]
  },
  {
   "cell_type": "code",
   "execution_count": 2,
   "id": "30ab1fcb-4397-4098-8b36-feca69c1e8c7",
   "metadata": {},
   "outputs": [],
   "source": [
    "post_df = pd.read_csv('posts_raw_15_09_24.csv')"
   ]
  },
  {
   "cell_type": "code",
   "execution_count": 3,
   "id": "c4a5798b-e0be-4627-9ed6-ed135637c102",
   "metadata": {},
   "outputs": [
    {
     "data": {
      "text/html": [
       "<div>\n",
       "<style scoped>\n",
       "    .dataframe tbody tr th:only-of-type {\n",
       "        vertical-align: middle;\n",
       "    }\n",
       "\n",
       "    .dataframe tbody tr th {\n",
       "        vertical-align: top;\n",
       "    }\n",
       "\n",
       "    .dataframe thead th {\n",
       "        text-align: right;\n",
       "    }\n",
       "</style>\n",
       "<table border=\"1\" class=\"dataframe\">\n",
       "  <thead>\n",
       "    <tr style=\"text-align: right;\">\n",
       "      <th></th>\n",
       "      <th>selftext</th>\n",
       "      <th>distinguished</th>\n",
       "      <th>created_utc</th>\n",
       "      <th>id</th>\n",
       "      <th>upvote_ratio</th>\n",
       "      <th>num_comments</th>\n",
       "      <th>title</th>\n",
       "      <th>score</th>\n",
       "    </tr>\n",
       "  </thead>\n",
       "  <tbody>\n",
       "    <tr>\n",
       "      <th>0</th>\n",
       "      <td>[deleted]</td>\n",
       "      <td>NaN</td>\n",
       "      <td>1606780814</td>\n",
       "      <td>k48sqm</td>\n",
       "      <td>1.00</td>\n",
       "      <td>0</td>\n",
       "      <td>Onto something new</td>\n",
       "      <td>1</td>\n",
       "    </tr>\n",
       "    <tr>\n",
       "      <th>1</th>\n",
       "      <td>[deleted]</td>\n",
       "      <td>NaN</td>\n",
       "      <td>1606780839</td>\n",
       "      <td>k48t1v</td>\n",
       "      <td>1.00</td>\n",
       "      <td>8</td>\n",
       "      <td>How to get into stocks as a poor/broke person.</td>\n",
       "      <td>1</td>\n",
       "    </tr>\n",
       "    <tr>\n",
       "      <th>2</th>\n",
       "      <td>[removed]</td>\n",
       "      <td>NaN</td>\n",
       "      <td>1606780873</td>\n",
       "      <td>k48tgg</td>\n",
       "      <td>0.67</td>\n",
       "      <td>3</td>\n",
       "      <td>Cannabis vote</td>\n",
       "      <td>1</td>\n",
       "    </tr>\n",
       "    <tr>\n",
       "      <th>3</th>\n",
       "      <td>Every time a new submission is posted to walls...</td>\n",
       "      <td>NaN</td>\n",
       "      <td>1606780909</td>\n",
       "      <td>k48tvz</td>\n",
       "      <td>0.81</td>\n",
       "      <td>126</td>\n",
       "      <td>WSBVoteBot Log for Dec 01 2020</td>\n",
       "      <td>6</td>\n",
       "    </tr>\n",
       "    <tr>\n",
       "      <th>4</th>\n",
       "      <td>[deleted]</td>\n",
       "      <td>NaN</td>\n",
       "      <td>1606780924</td>\n",
       "      <td>k48u34</td>\n",
       "      <td>1.00</td>\n",
       "      <td>0</td>\n",
       "      <td>I lost hope</td>\n",
       "      <td>1</td>\n",
       "    </tr>\n",
       "  </tbody>\n",
       "</table>\n",
       "</div>"
      ],
      "text/plain": [
       "                                            selftext distinguished  \\\n",
       "0                                          [deleted]           NaN   \n",
       "1                                          [deleted]           NaN   \n",
       "2                                          [removed]           NaN   \n",
       "3  Every time a new submission is posted to walls...           NaN   \n",
       "4                                          [deleted]           NaN   \n",
       "\n",
       "   created_utc      id  upvote_ratio  num_comments  \\\n",
       "0   1606780814  k48sqm          1.00             0   \n",
       "1   1606780839  k48t1v          1.00             8   \n",
       "2   1606780873  k48tgg          0.67             3   \n",
       "3   1606780909  k48tvz          0.81           126   \n",
       "4   1606780924  k48u34          1.00             0   \n",
       "\n",
       "                                            title  score  \n",
       "0                              Onto something new      1  \n",
       "1  How to get into stocks as a poor/broke person.      1  \n",
       "2                                   Cannabis vote      1  \n",
       "3                  WSBVoteBot Log for Dec 01 2020      6  \n",
       "4                                     I lost hope      1  "
      ]
     },
     "execution_count": 3,
     "metadata": {},
     "output_type": "execute_result"
    }
   ],
   "source": [
    "post_df.head()"
   ]
  },
  {
   "cell_type": "code",
   "execution_count": 4,
   "id": "b77373e6-f629-477b-809c-e084a115c5ad",
   "metadata": {},
   "outputs": [
    {
     "data": {
      "text/plain": [
       "selftext          object\n",
       "distinguished     object\n",
       "created_utc        int64\n",
       "id                object\n",
       "upvote_ratio     float64\n",
       "num_comments       int64\n",
       "title             object\n",
       "score              int64\n",
       "dtype: object"
      ]
     },
     "execution_count": 4,
     "metadata": {},
     "output_type": "execute_result"
    }
   ],
   "source": [
    "post_df.dtypes"
   ]
  },
  {
   "cell_type": "code",
   "execution_count": 5,
   "id": "a6ebc37d-4b87-47ac-861f-88d54a0004fa",
   "metadata": {},
   "outputs": [
    {
     "data": {
      "text/plain": [
       "(894803, 8)"
      ]
     },
     "execution_count": 5,
     "metadata": {},
     "output_type": "execute_result"
    }
   ],
   "source": [
    "post_df.shape"
   ]
  },
  {
   "cell_type": "code",
   "execution_count": 6,
   "id": "636daa1a-cfd5-4df4-9b0d-193f10743cc3",
   "metadata": {},
   "outputs": [
    {
     "data": {
      "text/html": [
       "<div>\n",
       "<style scoped>\n",
       "    .dataframe tbody tr th:only-of-type {\n",
       "        vertical-align: middle;\n",
       "    }\n",
       "\n",
       "    .dataframe tbody tr th {\n",
       "        vertical-align: top;\n",
       "    }\n",
       "\n",
       "    .dataframe thead th {\n",
       "        text-align: right;\n",
       "    }\n",
       "</style>\n",
       "<table border=\"1\" class=\"dataframe\">\n",
       "  <thead>\n",
       "    <tr style=\"text-align: right;\">\n",
       "      <th></th>\n",
       "      <th>selftext</th>\n",
       "      <th>distinguished</th>\n",
       "      <th>created_utc</th>\n",
       "      <th>id</th>\n",
       "      <th>upvote_ratio</th>\n",
       "      <th>num_comments</th>\n",
       "      <th>title</th>\n",
       "      <th>score</th>\n",
       "    </tr>\n",
       "  </thead>\n",
       "  <tbody>\n",
       "    <tr>\n",
       "      <th>0</th>\n",
       "      <td>[deleted]</td>\n",
       "      <td>NaN</td>\n",
       "      <td>1606780814</td>\n",
       "      <td>k48sqm</td>\n",
       "      <td>1.00</td>\n",
       "      <td>0</td>\n",
       "      <td>Onto something new</td>\n",
       "      <td>1</td>\n",
       "    </tr>\n",
       "    <tr>\n",
       "      <th>1</th>\n",
       "      <td>[deleted]</td>\n",
       "      <td>NaN</td>\n",
       "      <td>1606780839</td>\n",
       "      <td>k48t1v</td>\n",
       "      <td>1.00</td>\n",
       "      <td>8</td>\n",
       "      <td>How to get into stocks as a poor/broke person.</td>\n",
       "      <td>1</td>\n",
       "    </tr>\n",
       "    <tr>\n",
       "      <th>2</th>\n",
       "      <td>[removed]</td>\n",
       "      <td>NaN</td>\n",
       "      <td>1606780873</td>\n",
       "      <td>k48tgg</td>\n",
       "      <td>0.67</td>\n",
       "      <td>3</td>\n",
       "      <td>Cannabis vote</td>\n",
       "      <td>1</td>\n",
       "    </tr>\n",
       "    <tr>\n",
       "      <th>3</th>\n",
       "      <td>Every time a new submission is posted to walls...</td>\n",
       "      <td>NaN</td>\n",
       "      <td>1606780909</td>\n",
       "      <td>k48tvz</td>\n",
       "      <td>0.81</td>\n",
       "      <td>126</td>\n",
       "      <td>WSBVoteBot Log for Dec 01 2020</td>\n",
       "      <td>6</td>\n",
       "    </tr>\n",
       "    <tr>\n",
       "      <th>4</th>\n",
       "      <td>[deleted]</td>\n",
       "      <td>NaN</td>\n",
       "      <td>1606780924</td>\n",
       "      <td>k48u34</td>\n",
       "      <td>1.00</td>\n",
       "      <td>0</td>\n",
       "      <td>I lost hope</td>\n",
       "      <td>1</td>\n",
       "    </tr>\n",
       "  </tbody>\n",
       "</table>\n",
       "</div>"
      ],
      "text/plain": [
       "                                            selftext distinguished  \\\n",
       "0                                          [deleted]           NaN   \n",
       "1                                          [deleted]           NaN   \n",
       "2                                          [removed]           NaN   \n",
       "3  Every time a new submission is posted to walls...           NaN   \n",
       "4                                          [deleted]           NaN   \n",
       "\n",
       "   created_utc      id  upvote_ratio  num_comments  \\\n",
       "0   1606780814  k48sqm          1.00             0   \n",
       "1   1606780839  k48t1v          1.00             8   \n",
       "2   1606780873  k48tgg          0.67             3   \n",
       "3   1606780909  k48tvz          0.81           126   \n",
       "4   1606780924  k48u34          1.00             0   \n",
       "\n",
       "                                            title  score  \n",
       "0                              Onto something new      1  \n",
       "1  How to get into stocks as a poor/broke person.      1  \n",
       "2                                   Cannabis vote      1  \n",
       "3                  WSBVoteBot Log for Dec 01 2020      6  \n",
       "4                                     I lost hope      1  "
      ]
     },
     "execution_count": 6,
     "metadata": {},
     "output_type": "execute_result"
    }
   ],
   "source": [
    "post_df = post_df.sort_values(by='created_utc', ascending=True).reset_index(drop=True)\n",
    "post_df.head()"
   ]
  },
  {
   "cell_type": "code",
   "execution_count": 7,
   "id": "03cb2970-71dc-41a5-9ff1-7c595da4d285",
   "metadata": {},
   "outputs": [],
   "source": [
    "post_df = post_df[(post_df['distinguished'] != 'moderator') & (post_df['distinguished'] != 'admin')]\n",
    "post_df.drop('distinguished', axis=1, inplace = True)"
   ]
  },
  {
   "cell_type": "code",
   "execution_count": 8,
   "id": "92d78eb2-a2c9-4ec8-a544-07f1e3200311",
   "metadata": {},
   "outputs": [],
   "source": [
    "from zoneinfo import ZoneInfo\n",
    "post_df['created_et_date'] = post_df['created_utc'].apply(lambda x: datetime.fromtimestamp(x, tz=timezone.utc).\n",
    "                                                          astimezone(ZoneInfo('America/New_York')).strftime(\"%Y-%m-%d\"))\n",
    "post_df['created_et_date'] = pd.to_datetime(post_df['created_et_date'])\n",
    "\n",
    "post_df['created_et_timestamp'] = post_df['created_utc'].apply(lambda x: datetime.fromtimestamp(x, tz=timezone.utc).\n",
    "                                                               astimezone(ZoneInfo('America/New_York')).strftime(\"%Y-%m-%d %H:%M:%S %Z\"))\n",
    "\n",
    "post_df['created_et_time'] = post_df['created_utc'].apply(lambda x: datetime.fromtimestamp(x, tz=timezone.utc)\n",
    "                        .astimezone(ZoneInfo('America/New_York')).strftime(\"%H:%M:%S\"))\n",
    "\n",
    "post_df['created_et_timestamp'] = post_df['created_et_timestamp'].str.replace(r'\\s\\w+$', '', regex=True)  \n",
    "post_df['created_et_timestamp'] = pd.to_datetime(post_df['created_et_timestamp']).dt.tz_localize(ZoneInfo(\"America/New_York\"))\n",
    "\n",
    "#post_df.drop('created_utc', axis=1, inplace=True)\n",
    "post_df = post_df.sort_values(by ='created_et_timestamp', ascending = True).reset_index(drop = True)"
   ]
  },
  {
   "cell_type": "code",
   "execution_count": 9,
   "id": "4da9eb41-a0eb-47f1-9e2d-2954f1b795f2",
   "metadata": {},
   "outputs": [
    {
     "data": {
      "text/plain": [
       "selftext                                          object\n",
       "created_utc                                        int64\n",
       "id                                                object\n",
       "upvote_ratio                                     float64\n",
       "num_comments                                       int64\n",
       "title                                             object\n",
       "score                                              int64\n",
       "created_et_date                           datetime64[ns]\n",
       "created_et_timestamp    datetime64[ns, America/New_York]\n",
       "created_et_time                                   object\n",
       "dtype: object"
      ]
     },
     "execution_count": 9,
     "metadata": {},
     "output_type": "execute_result"
    }
   ],
   "source": [
    "post_df.dtypes"
   ]
  },
  {
   "cell_type": "code",
   "execution_count": 10,
   "id": "7010135c-8dcc-49b8-ada0-69b885f2f06d",
   "metadata": {},
   "outputs": [
    {
     "data": {
      "text/plain": [
       "(894726, 10)"
      ]
     },
     "execution_count": 10,
     "metadata": {},
     "output_type": "execute_result"
    }
   ],
   "source": [
    "post_df.shape"
   ]
  },
  {
   "cell_type": "code",
   "execution_count": 11,
   "id": "730fa4b3-786d-4f47-af47-da056a390d5e",
   "metadata": {},
   "outputs": [],
   "source": [
    "#removing removed and deleted posts - \n",
    "post_df['title'] = post_df['title'].replace({'[removed]': '', '[deleted]': '','[deleted by user]': ''})\n",
    "post_df['selftext'] = post_df['selftext'].replace({'[removed]': '', '[deleted]': '','[deleted by user]': ''})"
   ]
  },
  {
   "cell_type": "code",
   "execution_count": 12,
   "id": "5c1b8568-1bfd-4a11-b99c-6b6feddac589",
   "metadata": {},
   "outputs": [],
   "source": [
    "#appending self text to title for complete post \n",
    "post_df['fulltext'] = post_df['title'] + ' ' + post_df['selftext']\n",
    "post_df['fulltext'] = post_df['title'].str.strip()\n",
    "post_df = post_df.drop(['selftext', 'title'], axis=1)"
   ]
  },
  {
   "cell_type": "code",
   "execution_count": 13,
   "id": "c0d6d117-64a2-4bb0-b2d9-cccbf1a7b722",
   "metadata": {},
   "outputs": [
    {
     "data": {
      "text/html": [
       "<div>\n",
       "<style scoped>\n",
       "    .dataframe tbody tr th:only-of-type {\n",
       "        vertical-align: middle;\n",
       "    }\n",
       "\n",
       "    .dataframe tbody tr th {\n",
       "        vertical-align: top;\n",
       "    }\n",
       "\n",
       "    .dataframe thead th {\n",
       "        text-align: right;\n",
       "    }\n",
       "</style>\n",
       "<table border=\"1\" class=\"dataframe\">\n",
       "  <thead>\n",
       "    <tr style=\"text-align: right;\">\n",
       "      <th></th>\n",
       "      <th>created_utc</th>\n",
       "      <th>id</th>\n",
       "      <th>upvote_ratio</th>\n",
       "      <th>num_comments</th>\n",
       "      <th>score</th>\n",
       "      <th>created_et_date</th>\n",
       "      <th>created_et_timestamp</th>\n",
       "      <th>created_et_time</th>\n",
       "      <th>fulltext</th>\n",
       "    </tr>\n",
       "  </thead>\n",
       "  <tbody>\n",
       "    <tr>\n",
       "      <th>0</th>\n",
       "      <td>1606780814</td>\n",
       "      <td>k48sqm</td>\n",
       "      <td>1.00</td>\n",
       "      <td>0</td>\n",
       "      <td>1</td>\n",
       "      <td>2020-11-30</td>\n",
       "      <td>2020-11-30 19:00:14-05:00</td>\n",
       "      <td>19:00:14</td>\n",
       "      <td>Onto something new</td>\n",
       "    </tr>\n",
       "    <tr>\n",
       "      <th>1</th>\n",
       "      <td>1606780839</td>\n",
       "      <td>k48t1v</td>\n",
       "      <td>1.00</td>\n",
       "      <td>8</td>\n",
       "      <td>1</td>\n",
       "      <td>2020-11-30</td>\n",
       "      <td>2020-11-30 19:00:39-05:00</td>\n",
       "      <td>19:00:39</td>\n",
       "      <td>How to get into stocks as a poor/broke person.</td>\n",
       "    </tr>\n",
       "    <tr>\n",
       "      <th>2</th>\n",
       "      <td>1606780873</td>\n",
       "      <td>k48tgg</td>\n",
       "      <td>0.67</td>\n",
       "      <td>3</td>\n",
       "      <td>1</td>\n",
       "      <td>2020-11-30</td>\n",
       "      <td>2020-11-30 19:01:13-05:00</td>\n",
       "      <td>19:01:13</td>\n",
       "      <td>Cannabis vote</td>\n",
       "    </tr>\n",
       "    <tr>\n",
       "      <th>3</th>\n",
       "      <td>1606780909</td>\n",
       "      <td>k48tvz</td>\n",
       "      <td>0.81</td>\n",
       "      <td>126</td>\n",
       "      <td>6</td>\n",
       "      <td>2020-11-30</td>\n",
       "      <td>2020-11-30 19:01:49-05:00</td>\n",
       "      <td>19:01:49</td>\n",
       "      <td>WSBVoteBot Log for Dec 01 2020</td>\n",
       "    </tr>\n",
       "    <tr>\n",
       "      <th>4</th>\n",
       "      <td>1606780924</td>\n",
       "      <td>k48u34</td>\n",
       "      <td>1.00</td>\n",
       "      <td>0</td>\n",
       "      <td>1</td>\n",
       "      <td>2020-11-30</td>\n",
       "      <td>2020-11-30 19:02:04-05:00</td>\n",
       "      <td>19:02:04</td>\n",
       "      <td>I lost hope</td>\n",
       "    </tr>\n",
       "  </tbody>\n",
       "</table>\n",
       "</div>"
      ],
      "text/plain": [
       "   created_utc      id  upvote_ratio  num_comments  score created_et_date  \\\n",
       "0   1606780814  k48sqm          1.00             0      1      2020-11-30   \n",
       "1   1606780839  k48t1v          1.00             8      1      2020-11-30   \n",
       "2   1606780873  k48tgg          0.67             3      1      2020-11-30   \n",
       "3   1606780909  k48tvz          0.81           126      6      2020-11-30   \n",
       "4   1606780924  k48u34          1.00             0      1      2020-11-30   \n",
       "\n",
       "       created_et_timestamp created_et_time  \\\n",
       "0 2020-11-30 19:00:14-05:00        19:00:14   \n",
       "1 2020-11-30 19:00:39-05:00        19:00:39   \n",
       "2 2020-11-30 19:01:13-05:00        19:01:13   \n",
       "3 2020-11-30 19:01:49-05:00        19:01:49   \n",
       "4 2020-11-30 19:02:04-05:00        19:02:04   \n",
       "\n",
       "                                         fulltext  \n",
       "0                              Onto something new  \n",
       "1  How to get into stocks as a poor/broke person.  \n",
       "2                                   Cannabis vote  \n",
       "3                  WSBVoteBot Log for Dec 01 2020  \n",
       "4                                     I lost hope  "
      ]
     },
     "execution_count": 13,
     "metadata": {},
     "output_type": "execute_result"
    }
   ],
   "source": [
    "post_df.head()"
   ]
  },
  {
   "cell_type": "code",
   "execution_count": 14,
   "id": "6979eb4c-28d3-47ab-a5ba-f3937ea0cceb",
   "metadata": {},
   "outputs": [
    {
     "data": {
      "text/plain": [
       "(893188, 9)"
      ]
     },
     "execution_count": 14,
     "metadata": {},
     "output_type": "execute_result"
    }
   ],
   "source": [
    "#removing bot comments - \n",
    "import pandas as pd\n",
    "\n",
    "def drop_rows_keywords(post_df, keywords):\n",
    "    pattern = '|'.join(keywords)\n",
    "    post_df = post_df[~post_df['fulltext'].str.contains(pattern, case=False, na=False)]\n",
    "    return post_df\n",
    "\n",
    "keywords_to_remove = ['WSBVoteBot', 'Cannabis', '\\btest\\b', 'pickbot','Bot Action','Python trading bot',\n",
    "                'mining bot','trading bot','BOTS ARE EVERYWHERE, CHECK THE ACCOUNT THAT’S POSTING FFS',\n",
    "                'ban this bot','A Telegram bot to poll']\n",
    "post_df = drop_rows_keywords(post_df, keywords_to_remove)\n",
    "\n",
    "\n",
    "post_df.shape\n"
   ]
  },
  {
   "cell_type": "code",
   "execution_count": 15,
   "id": "65157264-2269-45db-9843-80e835f65ec5",
   "metadata": {},
   "outputs": [],
   "source": [
    "post_df['fulltext'] = post_df['fulltext'].astype(str)"
   ]
  },
  {
   "cell_type": "code",
   "execution_count": 16,
   "id": "fd333b1e-1820-4a8e-a3f8-6ad377d5edeb",
   "metadata": {},
   "outputs": [],
   "source": [
    "#removing links from text\n",
    "def remove_urls(text):\n",
    " \n",
    "    url_pattern = r'(https?:\\/\\/(?:[-\\w]+\\.)+[a-zA-Z]{2,}(?:\\/[^\\s]*)?)'\n",
    "    return re.sub(url_pattern, '', text)\n",
    "\n",
    "post_df['fulltext'] = post_df['fulltext'].apply(remove_urls)"
   ]
  },
  {
   "cell_type": "code",
   "execution_count": 17,
   "id": "62a6bcf0-e399-4e18-b962-d335984600ed",
   "metadata": {},
   "outputs": [
    {
     "data": {
      "text/plain": [
       "(890390, 9)"
      ]
     },
     "execution_count": 17,
     "metadata": {},
     "output_type": "execute_result"
    }
   ],
   "source": [
    "#dropping empty and few char rows - give better prompt\n",
    "import emoji\n",
    "def non_emoji(text):\n",
    "    if len(text) <= 2 and not emoji.is_emoji(text):\n",
    "        return True\n",
    "    return False\n",
    "\n",
    "post_df = post_df[~(post_df['fulltext'].apply(non_emoji))]\n",
    "post_df.shape\n"
   ]
  },
  {
   "cell_type": "code",
   "execution_count": 18,
   "id": "d1f3e752-d687-4d63-b631-02c8c6255ccf",
   "metadata": {},
   "outputs": [
    {
     "data": {
      "text/plain": [
       "(887628, 9)"
      ]
     },
     "execution_count": 18,
     "metadata": {},
     "output_type": "execute_result"
    }
   ],
   "source": [
    "# dropping duplicates where char length is greater than average length of the post \n",
    "df_comments_zero = post_df[(post_df['num_comments'] == 0) & (post_df['fulltext'].str.len() >= 100)]\n",
    "df_comments_nonzero = pd.merge(post_df, df_comments_zero, how='outer', indicator=True).query('_merge == \"left_only\"').drop('_merge', axis=1)\n",
    "df_comments_zero = df_comments_zero.drop_duplicates(subset=['fulltext'])\n",
    "post_df = pd.concat([df_comments_zero, df_comments_nonzero]).reset_index(drop=True)\n",
    "post_df.shape"
   ]
  },
  {
   "cell_type": "code",
   "execution_count": 19,
   "id": "0c8d3688-4148-4725-a02d-f55180ca4aa8",
   "metadata": {},
   "outputs": [],
   "source": [
    "post_df.to_csv('out_data/posts output folder/first_clean_posts_18_09_2024.csv', index=False)"
   ]
  },
  {
   "cell_type": "code",
   "execution_count": 20,
   "id": "9a314d46-4b2d-496f-9e00-ed8e33942f0e",
   "metadata": {},
   "outputs": [],
   "source": [
    "#creating columns for trade time and trade date \n",
    "non_trade_dates = ['2020-12-25', '2021-01-01', '2021-01-18', '2021-02-15', '2020-12-05','2020-12-06','2020-12-12','2020-12-13',\n",
    "                   '2020-12-19','2020-12-20','2020-12-26','2020-12-27','2021-01-02','2021-01-03','2021-01-09','2021-01-10',\n",
    "                   '2021-01-16','2021-01-17', '2021-01-23','2021-01-24','2021-01-30','2021-01-31', '2021-02-06','2021-02-07',\n",
    "                   '2021-02-13','2021-02-14']\n",
    "\n",
    "non_trade_dates = pd.to_datetime(non_trade_dates)\n",
    "\n",
    "post_df['is_trade_day'] = post_df['created_et_date'].apply(lambda x: 0 if x in non_trade_dates else 1)\n",
    "            \n",
    "#marking comments created outside the trading hours - \n",
    "start_time = pd.to_datetime('09:30:00').time()  # 9:30 AM ET \n",
    "end_time = pd.to_datetime('16:00:00').time()  # 4:00 PM ET \n",
    "post_df['created_et_time'] = pd.to_datetime(post_df['created_et_time'], format='%H:%M:%S').dt.time\n",
    "post_df['is_trade_time'] = post_df['created_et_time'].apply(lambda x: 1 if start_time <= x <= end_time else 0)\n"
   ]
  },
  {
   "cell_type": "code",
   "execution_count": 21,
   "id": "da3660cf-eeae-45b1-8277-b56138adbab3",
   "metadata": {},
   "outputs": [
    {
     "data": {
      "text/html": [
       "<div>\n",
       "<style scoped>\n",
       "    .dataframe tbody tr th:only-of-type {\n",
       "        vertical-align: middle;\n",
       "    }\n",
       "\n",
       "    .dataframe tbody tr th {\n",
       "        vertical-align: top;\n",
       "    }\n",
       "\n",
       "    .dataframe thead th {\n",
       "        text-align: right;\n",
       "    }\n",
       "</style>\n",
       "<table border=\"1\" class=\"dataframe\">\n",
       "  <thead>\n",
       "    <tr style=\"text-align: right;\">\n",
       "      <th></th>\n",
       "      <th>created_utc</th>\n",
       "      <th>id</th>\n",
       "      <th>upvote_ratio</th>\n",
       "      <th>num_comments</th>\n",
       "      <th>score</th>\n",
       "      <th>created_et_date</th>\n",
       "      <th>created_et_timestamp</th>\n",
       "      <th>created_et_time</th>\n",
       "      <th>fulltext</th>\n",
       "      <th>is_trade_day</th>\n",
       "      <th>is_trade_time</th>\n",
       "    </tr>\n",
       "  </thead>\n",
       "  <tbody>\n",
       "    <tr>\n",
       "      <th>661521</th>\n",
       "      <td>1612228298</td>\n",
       "      <td>lajomh</td>\n",
       "      <td>1.0</td>\n",
       "      <td>0</td>\n",
       "      <td>1</td>\n",
       "      <td>2021-02-01</td>\n",
       "      <td>2021-02-01 20:11:38-05:00</td>\n",
       "      <td>20:11:38</td>\n",
       "      <td>Good to Know Guys !! We hold strong 💪💪💪</td>\n",
       "      <td>1</td>\n",
       "      <td>0</td>\n",
       "    </tr>\n",
       "    <tr>\n",
       "      <th>139654</th>\n",
       "      <td>1611487066</td>\n",
       "      <td>l3xnj6</td>\n",
       "      <td>1.0</td>\n",
       "      <td>0</td>\n",
       "      <td>1</td>\n",
       "      <td>2021-01-24</td>\n",
       "      <td>2021-01-24 06:17:46-05:00</td>\n",
       "      <td>06:17:46</td>\n",
       "      <td>LEMON HUNTING SEASON!!! 🏹🍋</td>\n",
       "      <td>0</td>\n",
       "      <td>0</td>\n",
       "    </tr>\n",
       "    <tr>\n",
       "      <th>18014</th>\n",
       "      <td>1611851453</td>\n",
       "      <td>l71g0o</td>\n",
       "      <td>1.0</td>\n",
       "      <td>0</td>\n",
       "      <td>1</td>\n",
       "      <td>2021-01-28</td>\n",
       "      <td>2021-01-28 11:30:53-05:00</td>\n",
       "      <td>11:30:53</td>\n",
       "      <td>If the hedge funds gets away with this I can p...</td>\n",
       "      <td>1</td>\n",
       "      <td>1</td>\n",
       "    </tr>\n",
       "    <tr>\n",
       "      <th>862128</th>\n",
       "      <td>1613055478</td>\n",
       "      <td>lhmdm4</td>\n",
       "      <td>1.0</td>\n",
       "      <td>0</td>\n",
       "      <td>1</td>\n",
       "      <td>2021-02-11</td>\n",
       "      <td>2021-02-11 09:57:58-05:00</td>\n",
       "      <td>09:57:58</td>\n",
       "      <td>Please stop only upvoting memes</td>\n",
       "      <td>1</td>\n",
       "      <td>1</td>\n",
       "    </tr>\n",
       "    <tr>\n",
       "      <th>786010</th>\n",
       "      <td>1612480756</td>\n",
       "      <td>lct7n5</td>\n",
       "      <td>1.0</td>\n",
       "      <td>0</td>\n",
       "      <td>1</td>\n",
       "      <td>2021-02-04</td>\n",
       "      <td>2021-02-04 18:19:16-05:00</td>\n",
       "      <td>18:19:16</td>\n",
       "      <td>WSB right now analyzing GME charts.. We still ...</td>\n",
       "      <td>1</td>\n",
       "      <td>0</td>\n",
       "    </tr>\n",
       "  </tbody>\n",
       "</table>\n",
       "</div>"
      ],
      "text/plain": [
       "        created_utc      id  upvote_ratio  num_comments  score  \\\n",
       "661521   1612228298  lajomh           1.0             0      1   \n",
       "139654   1611487066  l3xnj6           1.0             0      1   \n",
       "18014    1611851453  l71g0o           1.0             0      1   \n",
       "862128   1613055478  lhmdm4           1.0             0      1   \n",
       "786010   1612480756  lct7n5           1.0             0      1   \n",
       "\n",
       "       created_et_date      created_et_timestamp created_et_time  \\\n",
       "661521      2021-02-01 2021-02-01 20:11:38-05:00        20:11:38   \n",
       "139654      2021-01-24 2021-01-24 06:17:46-05:00        06:17:46   \n",
       "18014       2021-01-28 2021-01-28 11:30:53-05:00        11:30:53   \n",
       "862128      2021-02-11 2021-02-11 09:57:58-05:00        09:57:58   \n",
       "786010      2021-02-04 2021-02-04 18:19:16-05:00        18:19:16   \n",
       "\n",
       "                                                 fulltext  is_trade_day  \\\n",
       "661521            Good to Know Guys !! We hold strong 💪💪💪             1   \n",
       "139654                         LEMON HUNTING SEASON!!! 🏹🍋             0   \n",
       "18014   If the hedge funds gets away with this I can p...             1   \n",
       "862128                    Please stop only upvoting memes             1   \n",
       "786010  WSB right now analyzing GME charts.. We still ...             1   \n",
       "\n",
       "        is_trade_time  \n",
       "661521              0  \n",
       "139654              0  \n",
       "18014               1  \n",
       "862128              1  \n",
       "786010              0  "
      ]
     },
     "execution_count": 21,
     "metadata": {},
     "output_type": "execute_result"
    }
   ],
   "source": [
    "post_df.sample(5)"
   ]
  },
  {
   "cell_type": "code",
   "execution_count": 22,
   "id": "4ed4076a-7fe2-42e0-907a-98f7ed9aac4c",
   "metadata": {},
   "outputs": [
    {
     "name": "stdout",
     "output_type": "stream",
     "text": [
      "(871818, 12)\n"
     ]
    }
   ],
   "source": [
    "#dropping further 1 dec till 15 dec post EDA analysis\n",
    "post_df= post_df[~(post_df['created_et_date'] < '2020-12-15')]\n",
    "#creating coloumn for gme timeline\n",
    "post_df['gme_timeline'] = np.select(\n",
    "    [\n",
    "        post_df['created_et_date'] < '2021-01-13',\n",
    "        (post_df['created_et_date'] >= '2021-01-13') & (post_df['created_et_date'] <= '2021-01-27'),\n",
    "        post_df['created_et_date'] > '2021-01-27'\n",
    "    ],\n",
    "    [0, 1, 2]\n",
    ")\n",
    "print(post_df.shape)\n",
    "post_df.to_csv('out_data/posts output folder/clean_posts_with_trade_time_23_09_2024.csv', index=False)"
   ]
  },
  {
   "cell_type": "code",
   "execution_count": 23,
   "id": "ebbe80cd-1312-499b-bb4f-a8ac899405ec",
   "metadata": {},
   "outputs": [
    {
     "name": "stdout",
     "output_type": "stream",
     "text": [
      "(346994, 10)\n"
     ]
    }
   ],
   "source": [
    "#dropping non trade days and non trade time \n",
    "trade_post_df= post_df[(post_df['is_trade_day'] != 0) & (post_df['is_trade_time'] != 0)]\n",
    "trade_post_df= trade_post_df.drop(columns=['is_trade_day', 'is_trade_time'])\n",
    "print(trade_post_df.shape)\n",
    "trade_post_df.to_csv('out_data/posts output folder/posts_onlytrade_28_09_2024.csv', index=False)"
   ]
  },
  {
   "cell_type": "code",
   "execution_count": 24,
   "id": "060feeec-36a4-4918-8114-e2be4a282d57",
   "metadata": {},
   "outputs": [
    {
     "data": {
      "text/plain": [
       "gme_timeline\n",
       "2    268426\n",
       "1     68556\n",
       "0     10012\n",
       "Name: count, dtype: int64"
      ]
     },
     "execution_count": 24,
     "metadata": {},
     "output_type": "execute_result"
    }
   ],
   "source": [
    "trade_post_df['gme_timeline'].value_counts()"
   ]
  },
  {
   "cell_type": "code",
   "execution_count": 52,
   "id": "d878a134-3891-4fe7-974b-796c31f4324e",
   "metadata": {},
   "outputs": [
    {
     "data": {
      "text/plain": [
       "1904771"
      ]
     },
     "execution_count": 52,
     "metadata": {},
     "output_type": "execute_result"
    }
   ],
   "source": [
    "trade_post_df[trade_post_df[\"created_et_date\"] >= \"2021-01-28\"][\"num_comments\"].sum()"
   ]
  },
  {
   "cell_type": "code",
   "execution_count": 54,
   "id": "b4978b6f-42b3-4518-90bd-ee19246c7cc6",
   "metadata": {},
   "outputs": [
    {
     "data": {
      "text/plain": [
       "created_utc                                            1611859843\n",
       "id                                                         l752de\n",
       "upvote_ratio                                                 0.94\n",
       "num_comments                                                 4657\n",
       "score                                                      231278\n",
       "created_et_date                               2021-01-28 00:00:00\n",
       "created_et_timestamp                    2021-01-28 13:50:43-05:00\n",
       "created_et_time                                          13:50:43\n",
       "fulltext                You get what you f**king deserve! UPVOTE!\n",
       "gme_timeline                                                    2\n",
       "Name: 349314, dtype: object"
      ]
     },
     "execution_count": 54,
     "metadata": {},
     "output_type": "execute_result"
    }
   ],
   "source": [
    "trade_post_df.loc[trade_post_df[\"score\"].idxmax()]"
   ]
  },
  {
   "cell_type": "code",
   "execution_count": null,
   "id": "5a49c817-b0bd-4731-9ca2-9ed009b5c361",
   "metadata": {},
   "outputs": [],
   "source": []
  }
 ],
 "metadata": {
  "kernelspec": {
   "display_name": "Python 3 (ipykernel)",
   "language": "python",
   "name": "python3"
  },
  "language_info": {
   "codemirror_mode": {
    "name": "ipython",
    "version": 3
   },
   "file_extension": ".py",
   "mimetype": "text/x-python",
   "name": "python",
   "nbconvert_exporter": "python",
   "pygments_lexer": "ipython3",
   "version": "3.12.4"
  }
 },
 "nbformat": 4,
 "nbformat_minor": 5
}
